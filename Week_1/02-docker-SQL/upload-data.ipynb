{
 "cells": [
  {
   "cell_type": "code",
   "execution_count": null,
   "id": "dfb58f7d-3851-4135-8818-0ae98c256ad6",
   "metadata": {},
   "outputs": [],
   "source": []
  }
 ],
 "metadata": {
  "kernelspec": {
   "display_name": "",
   "name": ""
  },
  "language_info": {
   "name": ""
  }
 },
 "nbformat": 4,
 "nbformat_minor": 5
}
